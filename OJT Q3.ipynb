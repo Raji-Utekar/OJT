{
 "cells": [
  {
   "cell_type": "markdown",
   "id": "c827b837",
   "metadata": {},
   "source": [
    "## Q3. Singular Value Decomposition (SVD)"
   ]
  },
  {
   "cell_type": "code",
   "execution_count": 1,
   "id": "6eb562a0",
   "metadata": {},
   "outputs": [
    {
     "data": {
      "text/latex": [
       "$\\displaystyle \\left[\\begin{matrix}5 & 3 & 2 & 8 & 0\\\\9 & 1 & 8 & 5 & 3\\\\1 & 8 & 1 & 5 & 4\\\\7 & 0 & 4 & 2 & 6\\\\7 & 3 & 0 & 8 & 3\\end{matrix}\\right]$"
      ],
      "text/plain": [
       "Matrix([\n",
       "[5, 3, 2, 8, 0],\n",
       "[9, 1, 8, 5, 3],\n",
       "[1, 8, 1, 5, 4],\n",
       "[7, 0, 4, 2, 6],\n",
       "[7, 3, 0, 8, 3]])"
      ]
     },
     "execution_count": 1,
     "metadata": {},
     "output_type": "execute_result"
    }
   ],
   "source": [
    "import numpy as np\n",
    "import sympy as sp\n",
    "\n",
    "np.random.seed(29)\n",
    "A = np.random.randint(0, 10, (5, 5))\n",
    "sp.Matrix(A)"
   ]
  },
  {
   "cell_type": "code",
   "execution_count": 2,
   "id": "f9c035c6",
   "metadata": {},
   "outputs": [
    {
     "name": "stdout",
     "output_type": "stream",
     "text": [
      "Rank 2 Approximation of Matrix A: \n"
     ]
    },
    {
     "data": {
      "text/latex": [
       "$\\displaystyle \\left[\\begin{matrix}4.75844608008397 & 4.14867842373142 & 1.85652674575847 & 6.33101602180092 & 2.68638235382099\\\\9.56290601927815 & 0.241173076547636 & 6.31711686102891 & 5.04610640411638 & 4.22915790948535\\\\2.08488927061375 & 6.09130730161141 & -0.55163544119072 & 6.82623904555762 & 1.79438290527134\\\\7.10420046518837 & -0.415836311930769 & 4.88298641009617 & 3.18451118747595 & 3.05585158376462\\\\5.73925633859545 & 4.52010350207778 & 2.3936966483179 & 7.17730594647575 & 3.17022428587274\\end{matrix}\\right]$"
      ],
      "text/plain": [
       "Matrix([\n",
       "[4.75844608008397,   4.14867842373142,  1.85652674575847, 6.33101602180092, 2.68638235382099],\n",
       "[9.56290601927815,  0.241173076547636,  6.31711686102891, 5.04610640411638, 4.22915790948535],\n",
       "[2.08488927061375,   6.09130730161141, -0.55163544119072, 6.82623904555762, 1.79438290527134],\n",
       "[7.10420046518837, -0.415836311930769,  4.88298641009617, 3.18451118747595, 3.05585158376462],\n",
       "[5.73925633859545,   4.52010350207778,   2.3936966483179, 7.17730594647575, 3.17022428587274]])"
      ]
     },
     "execution_count": 2,
     "metadata": {},
     "output_type": "execute_result"
    }
   ],
   "source": [
    "U, Sigma, Vt = np.linalg.svd(A)\n",
    "Sigma_matrix = np.diag(Sigma)\n",
    "rank2approximation = U[:, :2] @ Sigma_matrix[:2, :2] @ Vt[:2, :]\n",
    "rank3approximation = U[:, :3] @ Sigma_matrix[:3, :3] @ Vt[:3, :]\n",
    "print(\"Rank 2 Approximation of Matrix A: \")\n",
    "sp.Matrix(rank2approximation)"
   ]
  },
  {
   "cell_type": "code",
   "execution_count": 3,
   "id": "59709df9",
   "metadata": {},
   "outputs": [
    {
     "name": "stdout",
     "output_type": "stream",
     "text": [
      "Rank 3 Approximation of Matrix A: \n"
     ]
    },
    {
     "data": {
      "text/latex": [
       "$\\displaystyle \\left[\\begin{matrix}5.44257713813451 & 2.80099818321496 & 1.16756853645733 & 7.86648944654047 & 0.413308188619887\\\\9.57328280785551 & 0.220731681933024 & 6.30666685500678 & 5.06939621519451 & 4.19468029038681\\\\1.27317821435071 & 7.69030933296435 & 0.265802956338672 & 5.00442326802119 & 4.49135070097009\\\\6.53643019313556 & 0.702623035578771 & 5.45476280487435 & 1.91019955692604 & 4.94230875010055\\\\6.15241936139708 & 3.70620734082402 & 1.97761839402846 & 8.10461487965694 & 1.79746071653133\\end{matrix}\\right]$"
      ],
      "text/plain": [
       "Matrix([\n",
       "[5.44257713813451,  2.80099818321496,  1.16756853645733, 7.86648944654047, 0.413308188619887],\n",
       "[9.57328280785551, 0.220731681933024,  6.30666685500678, 5.06939621519451,  4.19468029038681],\n",
       "[1.27317821435071,  7.69030933296435, 0.265802956338672, 5.00442326802119,  4.49135070097009],\n",
       "[6.53643019313556, 0.702623035578771,  5.45476280487435, 1.91019955692604,  4.94230875010055],\n",
       "[6.15241936139708,  3.70620734082402,  1.97761839402846, 8.10461487965694,  1.79746071653133]])"
      ]
     },
     "execution_count": 3,
     "metadata": {},
     "output_type": "execute_result"
    }
   ],
   "source": [
    "print(\"Rank 3 Approximation of Matrix A: \")\n",
    "sp.Matrix(rank3approximation)"
   ]
  }
 ],
 "metadata": {
  "kernelspec": {
   "display_name": "Python 3 (ipykernel)",
   "language": "python",
   "name": "python3"
  },
  "language_info": {
   "codemirror_mode": {
    "name": "ipython",
    "version": 3
   },
   "file_extension": ".py",
   "mimetype": "text/x-python",
   "name": "python",
   "nbconvert_exporter": "python",
   "pygments_lexer": "ipython3",
   "version": "3.11.5"
  }
 },
 "nbformat": 4,
 "nbformat_minor": 5
}
