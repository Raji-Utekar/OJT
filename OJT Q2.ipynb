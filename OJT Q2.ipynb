{
 "cells": [
  {
   "cell_type": "markdown",
   "id": "a86ba334",
   "metadata": {},
   "source": [
    "## Q2. Row Echelon Form:"
   ]
  },
  {
   "cell_type": "code",
   "execution_count": 1,
   "id": "48020626",
   "metadata": {},
   "outputs": [],
   "source": [
    "import numpy as np\n",
    "import sympy as sp"
   ]
  },
  {
   "cell_type": "code",
   "execution_count": 2,
   "id": "f347ea1b",
   "metadata": {},
   "outputs": [
    {
     "data": {
      "text/latex": [
       "$\\displaystyle \\left[\\begin{matrix}5 & 3 & 2 & 8 & 0\\\\9 & 1 & 8 & 5 & 3\\\\1 & 8 & 1 & 5 & 4\\\\7 & 0 & 4 & 2 & 6\\\\7 & 3 & 0 & 8 & 3\\end{matrix}\\right]$"
      ],
      "text/plain": [
       "Matrix([\n",
       "[5, 3, 2, 8, 0],\n",
       "[9, 1, 8, 5, 3],\n",
       "[1, 8, 1, 5, 4],\n",
       "[7, 0, 4, 2, 6],\n",
       "[7, 3, 0, 8, 3]])"
      ]
     },
     "execution_count": 2,
     "metadata": {},
     "output_type": "execute_result"
    }
   ],
   "source": [
    "np.random.seed(29) # My roll no = 29\n",
    "A = np.random.randint(0, 10, (5, 5))\n",
    "sp.Matrix(A)"
   ]
  },
  {
   "cell_type": "code",
   "execution_count": 3,
   "id": "afc1af26",
   "metadata": {},
   "outputs": [
    {
     "name": "stdout",
     "output_type": "stream",
     "text": [
      "\n",
      "Row Echelon Form of Matrix A is:\n"
     ]
    },
    {
     "data": {
      "text/latex": [
       "$\\displaystyle \\left[\\begin{matrix}1 & 0 & 0 & 0 & 0\\\\0 & 1 & 0 & 0 & 0\\\\0 & 0 & 1 & 0 & 0\\\\0 & 0 & 0 & 1 & 0\\\\0 & 0 & 0 & 0 & 1\\end{matrix}\\right]$"
      ],
      "text/plain": [
       "Matrix([\n",
       "[1, 0, 0, 0, 0],\n",
       "[0, 1, 0, 0, 0],\n",
       "[0, 0, 1, 0, 0],\n",
       "[0, 0, 0, 1, 0],\n",
       "[0, 0, 0, 0, 1]])"
      ]
     },
     "execution_count": 3,
     "metadata": {},
     "output_type": "execute_result"
    }
   ],
   "source": [
    "rows, cols = A.shape\n",
    "lead = 0\n",
    "row = 0\n",
    "while lead < cols and row < rows:\n",
    "    if A[row, lead] == 0:\n",
    "        non_zero_row = row + 1\n",
    "        while non_zero_row < rows and A[non_zero_row, lead] == 0:\n",
    "            non_zero_row += 1\n",
    "        if non_zero_row == rows:\n",
    "            lead += 1\n",
    "            row = 0\n",
    "            continue\n",
    "        else:\n",
    "            A[[row, non_zero_row]] = A[[non_zero_row], row]\n",
    "            \n",
    "    A[row] = A[row] / A[row, lead]\n",
    "    for i in range(rows):\n",
    "        if i != row:\n",
    "            factor = A[i, lead]\n",
    "            A[i] = A[i] - factor * A[row]\n",
    "    lead += 1\n",
    "    row +=1\n",
    "    \n",
    "print(\"\\nRow Echelon Form of Matrix A is:\")\n",
    "sp.Matrix(A)"
   ]
  }
 ],
 "metadata": {
  "kernelspec": {
   "display_name": "Python 3 (ipykernel)",
   "language": "python",
   "name": "python3"
  },
  "language_info": {
   "codemirror_mode": {
    "name": "ipython",
    "version": 3
   },
   "file_extension": ".py",
   "mimetype": "text/x-python",
   "name": "python",
   "nbconvert_exporter": "python",
   "pygments_lexer": "ipython3",
   "version": "3.11.5"
  }
 },
 "nbformat": 4,
 "nbformat_minor": 5
}
